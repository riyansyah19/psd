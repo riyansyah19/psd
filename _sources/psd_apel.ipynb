{
  "nbformat": 4,
  "nbformat_minor": 0,
  "metadata": {
    "colab": {
      "provenance": []
    },
    "kernelspec": {
      "name": "python3",
      "display_name": "Python 3"
    },
    "language_info": {
      "name": "python"
    }
  },
  "cells": [
    {
      "cell_type": "markdown",
      "source": [
        "# Proyek Sains Data"
      ],
      "metadata": {
        "id": "1LiHvok8b8oo"
      }
    },
    {
      "cell_type": "markdown",
      "source": [
        "# **Latar Belakang**\n",
        "\n",
        "---\n",
        "\n",
        "Apel adalah buah dengan rasa dan tekstur yang khas. Rasa manis dan keunggulan serta khasiat apel ini membuat banyak orang suka mengonsumsi produk organik ini. Orang-orang di seluruh dunia sering mengonsumsi buah yang melimpah ini. Primadonna adalah buah yang baik untuk dimakan dan mengandung banyak vitamin B dan vitamin C. Rasanya seperti buah segar.\n",
        "\n",
        "visi misi kami adalah Menjaga kualitas produk karena itu merupakan salah satu kunci keberhasilan dalam penjualan apel. Misi kami adalah menyediakan produk pertanian yang memenuhi standar kualitas dan meningkatkan kesejahteraan petani serta ekonomi lokal.dan Visi kami adalah menekankan pada keberlanjutan dan penyediaan barang berkualitas tinggi bagi pelanggan.\n",
        "\n",
        "Sesuai dengan visi dan misi ini, teknik bisnis organisasi harus disesuaikan untuk menjamin bahwa barang apel yang dihasilkan memenuhi asumsi pasar, baik dari segi rasa, tampilan, maupun kekuatan saat dikonsumsi. Strategi ini sangat bergantung pada klasifikasi kualitas apel karena, dengan bantuan teknologi dan analisis data, bisnis mampu memilah secara efisien dan menjamin bahwa konsumen menerima apel berkualitas tinggi.\n",
        "\n",
        "Klasifikasi yang akurat dan tepat sangat penting jika perusahaan ingin mencapai tujuannya, yang meliputi peningkatan penjualan dan pengurangan jumlah limbah yang disebabkan oleh produk yang tidak dapat dijual. Hasilnya, bisnis dapat mencapai pertumbuhan pendapatan, efisiensi operasional, dan peningkatan kepuasan pelanggan. Posisi perusahaan di sektor agribisnis yang sedang berkembang diperkuat oleh penerapan sistem klasifikasi mutu apel, yang tidak hanya meningkatkan daya saing pasar tetapi juga memperkuat posisi perusahaan."
      ],
      "metadata": {
        "id": "f5Kp5vn-_4dF"
      }
    },
    {
      "cell_type": "markdown",
      "source": [
        "# **Tujuan**\n",
        "\n",
        "---\n",
        "\n",
        "Tujuan analisis data klasifikasi mutu apel adalah untuk membantu perusahaan mencapai visi dan misinya di bidang pertanian atau agribisnis. Untuk memprediksi kualitas secara akurat, data dari berbagai faktor seperti ukuran, warna, tekstur, dan kesegaran apel dianalisis selama proses klasifikasi.\n",
        "\n",
        " Analisis ini dapat digunakan untuk mendukung strategi bisnis perusahaan dengan memastikan bahwa apel yang dijual memenuhi harapan para pelanggan, meningkatkan efisiensi proses produksi, dan mempertahankan standar kualitas produk.\n",
        "\n",
        " Selain itu, analisis ini berkontribusi pada pencapaian tujuan bisnis dalam hal meningkatkan posisi pasar, menurunkan kemungkinan kerugian dari produk berkualitas rendah, dan meningkatkan penjualan. Akibatnya, tujuan akhir dari analisis ini adalah untuk mencapai tujuan bisnis yang lebih besar seperti meningkatkan keberlanjutan agribisnis, kepuasan pelanggan, dan laba."
      ],
      "metadata": {
        "id": "o7K-0WQsAShR"
      }
    },
    {
      "cell_type": "markdown",
      "source": [
        "# Rumusan **Masalah**\n",
        "\n",
        "---\n",
        "\n",
        "Ada sejumlah isu utama yang perlu diselesaikan agar bisnis dapat memenuhi visi dan misinya di sektor agribisnis, khususnya dalam hal pengelolaan kualitas apel:\n",
        "\n",
        "-bagaimana kita dapat menjamin bahwa apel yang diproduksi memenuhi standar kualitas yang ditetapkan?\n",
        "\n",
        "-Dengan menggunakan teknologi analisis data, metode klasifikasi apa yang paling efisien untuk memisahkan apel berkualitas tinggi dari apel berkualitas rendah?\n",
        "dan Bagaimana metode ini dapat dimasukkan ke dalam proses produksi saat ini?\n",
        "\n",
        " -Penerapan Strategi Bisnis: Bagaimana bisnis dapat secara efektif menerapkan strategi klasifikasi kualitas apel untuk mendukung tujuan bisnis seperti meningkatkan penjualan dan mengurangi kerugian dari produk yang tidak terjual?\n",
        "\n",
        "  -Indikator kinerja utama (KPI) apa yang harus dipantau untuk menentukan apakah penerapan sistem klasifikasi kualitas apel berhasil mencapai tujuan bisnis, dan bagaimana tujuan ini harus diukur dan dievaluasi?\n",
        "  \n",
        "  -Bagaimana manajemen kualitas Apple dapat ditingkatkan untuk meningkatkan kepuasan pelanggan dan menumbuhkan citra publik yang baik?"
      ],
      "metadata": {
        "id": "W0Q3JzRrBbv5"
      }
    }
  ]
}